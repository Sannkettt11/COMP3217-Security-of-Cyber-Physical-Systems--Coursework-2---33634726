{
  "nbformat": 4,
  "nbformat_minor": 0,
  "metadata": {
    "colab": {
      "provenance": []
    },
    "kernelspec": {
      "name": "python3",
      "display_name": "Python 3"
    },
    "language_info": {
      "name": "python"
    }
  },
  "cells": [
    {
      "cell_type": "code",
      "execution_count": 4,
      "metadata": {
        "colab": {
          "base_uri": "https://localhost:8080/"
        },
        "id": "eIngOj3e_CSF",
        "outputId": "34d35712-5b43-4c0f-dc63-4cf56d4a56c3"
      },
      "outputs": [
        {
          "output_type": "stream",
          "name": "stdout",
          "text": [
            "Validation Accuracy: 0.9633333333333334\n"
          ]
        }
      ],
      "source": [
        "import pandas as pd\n",
        "from sklearn.ensemble import RandomForestClassifier\n",
        "from sklearn.model_selection import train_test_split\n",
        "from sklearn.metrics import accuracy_score\n",
        "\n",
        "# Loading the train dataset\n",
        "training_data = pd.read_csv(\"TrainingDataMulti.csv\", header=None)\n",
        "\n",
        "# Spliting the dataset into features and labels\n",
        "X_train = training_data.iloc[:, :-1]  \n",
        "y_train = training_data.iloc[:, -1] \n",
        "\n",
        "# Spliting the dataset into training and testing sets\n",
        "X_train, X_val, y_train, y_val = train_test_split(X_train, y_train, test_size=0.2, random_state=0)\n",
        "\n",
        "# Training a machine learning model (e.g., Random Forest Classifier)\n",
        "rf_classifier = RandomForestClassifier()\n",
        "rf_classifier.fit(X_train, y_train)\n",
        "\n",
        "# Making preddictions \n",
        "y_pred_val = rf_classifier.predict(X_val)\n",
        "\n",
        "# Evaluating the model on the testing set\n",
        "val_accuracy = accuracy_score(y_val, y_pred_val)\n",
        "print(\"Validation Accuracy:\", val_accuracy)"
      ]
    },
    {
      "cell_type": "code",
      "source": [
        "# Loading the test dataset\n",
        "Xtest = pd.read_csv('TestingDataMulti.csv')\n",
        "\n",
        "# Predictions for the test set\n",
        "y_predtest = rf_classifier.predict(Xtest)\n",
        "print(y_predtest)\n",
        "\n",
        "# Create a new column in the DataFrame\n",
        "Xtest[''] = y_predtest\n",
        "\n",
        "# Save the updated DataFrame to the original Excel file\n",
        "Xtest.to_excel('TestingDataMulti_final.xlsx', header = None, index=False)"
      ],
      "metadata": {
        "colab": {
          "base_uri": "https://localhost:8080/"
        },
        "id": "N8r_HhmTAMAf",
        "outputId": "9086754d-cc00-4c44-b11f-db0336326a24"
      },
      "execution_count": 5,
      "outputs": [
        {
          "output_type": "stream",
          "name": "stderr",
          "text": [
            "/usr/local/lib/python3.10/dist-packages/sklearn/base.py:432: UserWarning: X has feature names, but RandomForestClassifier was fitted without feature names\n",
            "  warnings.warn(\n"
          ]
        },
        {
          "output_type": "stream",
          "name": "stdout",
          "text": [
            "[2 2 2 2 2 1 1 2 2 2 1 1 1 1 1 2 1 1 1 1 1 2 2 2 2 2 2 2 2 2 2 2 1 1 1 1 1\n",
            " 2 1 1 2 2 2 2 2 2 2 2 1 2 2 2 1 2 2 2 1 1 1 1 1 1 1 1 1 0 0 0 0 0 0 0 0 0\n",
            " 0 0 0 0 0 0 0 0 0 1 1 1 1 1 1 1 0 0 0 0 0 0 0 0 0]\n"
          ]
        }
      ]
    }
  ]
}