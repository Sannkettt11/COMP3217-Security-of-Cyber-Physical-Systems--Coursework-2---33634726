{
  "nbformat": 4,
  "nbformat_minor": 0,
  "metadata": {
    "colab": {
      "provenance": []
    },
    "kernelspec": {
      "name": "python3",
      "display_name": "Python 3"
    },
    "language_info": {
      "name": "python"
    }
  },
  "cells": [
    {
      "cell_type": "code",
      "execution_count": 12,
      "metadata": {
        "colab": {
          "base_uri": "https://localhost:8080/",
          "height": 0
        },
        "id": "1njJnqoU1Ia8",
        "outputId": "53f980d2-29b0-476f-e618-1b70fd5f7529"
      },
      "outputs": [
        {
          "output_type": "stream",
          "name": "stdout",
          "text": [
            "[0 1 0 ... 0 0 1]\n",
            "Accuracy: 0.9908333333333333\n"
          ]
        }
      ],
      "source": [
        "import pandas as pd\n",
        "\n",
        "# Loading the train dataset\n",
        "dataset = pd.read_csv('TrainingDataBinary.csv',header=None)\n",
        "\n",
        "# Spliting the dataset into features and labels\n",
        "X = dataset.iloc[:, :-1]  # Select all columns except the last one\n",
        "y = dataset.iloc[:, -1]    # Select the last column\n",
        "\n",
        "# Spliting the dataset into training and testing sets\n",
        "from sklearn.model_selection import train_test_split\n",
        "X_train, X_test, y_train, y_test = train_test_split(X,y,test_size=0.2, random_state=0)\n",
        "\n",
        "# Training machine learning model (Random Forest Classifier)\n",
        "from sklearn.ensemble import RandomForestClassifier\n",
        "model = RandomForestClassifier()\n",
        "model.fit(X_train, y_train)\n",
        "\n",
        "# Making preddictions \n",
        "y_pred = model.predict(X_test)\n",
        "print(y_pred)\n",
        "\n",
        "# Evaluating the model on the testing set\n",
        "accuracy = model.score(X_test, y_test)\n",
        "print(\"Accuracy:\", accuracy)"
      ]
    },
    {
      "cell_type": "code",
      "source": [
        "# Loading the test dataset\n",
        "Xtest = pd.read_csv('TestingDataBinary.csv')\n",
        "\n",
        "# Predictions for the test set\n",
        "y_predtest = model.predict(Xtest)\n",
        "print(y_predtest)\n",
        "\n",
        "# Creating a new column in the DataFrame for predictions\n",
        "Xtest[''] = y_predtest\n",
        "\n",
        "# Save the updated DataFrame to the original Excel file\n",
        "Xtest.to_excel('TestingDataBinary_final.xlsx', header = None, index=False)"
      ],
      "metadata": {
        "colab": {
          "base_uri": "https://localhost:8080/",
          "height": 0
        },
        "id": "r3VV93OY7vTN",
        "outputId": "7c745b2d-1290-4112-b7f3-7a2bd8e1b0e3"
      },
      "execution_count": 20,
      "outputs": [
        {
          "output_type": "stream",
          "name": "stdout",
          "text": [
            "[1 1 1 1 1 1 1 1 1 1 1 1 1 1 1 1 1 1 1 1 1 1 1 1 1 1 1 1 1 1 1 1 1 1 1 1 1\n",
            " 1 1 1 1 1 1 1 1 1 1 1 1 0 0 0 0 0 0 0 0 0 0 0 0 0 0 0 0 0 0 0 0 1 1 1 1 1\n",
            " 0 0 0 0 0 0 0 0 0 0 0 0 0 0 0 0 0 0 0 0 0 0 0 0 0]\n"
          ]
        },
        {
          "output_type": "stream",
          "name": "stderr",
          "text": [
            "/usr/local/lib/python3.10/dist-packages/sklearn/base.py:432: UserWarning: X has feature names, but RandomForestClassifier was fitted without feature names\n",
            "  warnings.warn(\n"
          ]
        }
      ]
    }
  ]
}